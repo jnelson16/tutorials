{
 "cells": [
  {
   "cell_type": "code",
   "execution_count": 1,
   "metadata": {},
   "outputs": [],
   "source": [
    "import bs4\n",
    "import requests\n",
    "url = 'http://jonathannelson.io'\n",
    "content = requests.get(url).content\n",
    "soup = bs4.BeautifulSoup(content, 'lxml')"
   ]
  },
  {
   "cell_type": "code",
   "execution_count": 2,
   "metadata": {},
   "outputs": [],
   "source": [
    "# Play around with the soup of the homepage here\n"
   ]
  },
  {
   "cell_type": "code",
   "execution_count": 3,
   "metadata": {},
   "outputs": [],
   "source": [
    "# Create function for getting soup from a url\n",
    "def get_soup(url):\n",
    "    return bs4.BeautifulSoup(requests.get(url).content, 'html5lib')"
   ]
  },
  {
   "cell_type": "code",
   "execution_count": 4,
   "metadata": {},
   "outputs": [],
   "source": [
    "# Get links for each page on the website\n",
    "import urllib\n",
    "for page in soup.find_all('li', class_=\"nav-item\"):\n",
    "    page_url = urllib.parse.urljoin(url, page.find('a')['href'])\n",
    "    page_soup = get_soup(page_url)"
   ]
  },
  {
   "cell_type": "code",
   "execution_count": 5,
   "metadata": {},
   "outputs": [],
   "source": [
    "# Play around with the soup of one of the pages here\n"
   ]
  },
  {
   "cell_type": "code",
   "execution_count": 6,
   "metadata": {},
   "outputs": [],
   "source": [
    "# Get links and metadata for each blog post\n",
    "import pandas as pd\n",
    "# Hard code blog link so the code works\n",
    "page_soup = get_soup('http://jonathannelson.io/blog')\n",
    "data = []\n",
    "for post in page_soup.find_all(class_=\"post-preview\"):\n",
    "    post_title = post.find(class_=\"post-title\").text\n",
    "    post_date = pd.to_datetime(\n",
    "        post.find(class_=\"post-meta\").text.split(' · ')[0]).date()\n",
    "    post_url = urllib.parse.urljoin(url, post.find('a')['href'])\n",
    "    post_soup = get_soup(post_url)"
   ]
  },
  {
   "cell_type": "code",
   "execution_count": 7,
   "metadata": {},
   "outputs": [],
   "source": [
    "# Play around with the soup of a blog post here\n"
   ]
  },
  {
   "cell_type": "code",
   "execution_count": 8,
   "metadata": {},
   "outputs": [],
   "source": [
    "# Get text from blog post\n",
    "post_text = post_soup.find_all('div', class_=\"container\")[2].get_text('\\n')"
   ]
  },
  {
   "cell_type": "code",
   "execution_count": 9,
   "metadata": {},
   "outputs": [
    {
     "data": {
      "text/plain": [
       "362"
      ]
     },
     "execution_count": 9,
     "metadata": {},
     "output_type": "execute_result"
    }
   ],
   "source": [
    "from pathlib import Path\n",
    "# Create file location\n",
    "outpath = Path('blogs').joinpath(\n",
    "    str(post_date), post_title).with_suffix('.txt')\n",
    "# Create directory structure if it does not exist\n",
    "if not outpath.parent.exists():\n",
    "    outpath.parent.mkdir(parents=True)\n",
    "# Write text to file\n",
    "outpath.write_text(post_text)"
   ]
  },
  {
   "cell_type": "code",
   "execution_count": 10,
   "metadata": {},
   "outputs": [],
   "source": [
    "# Full scraper\n",
    "url = 'http://jonathannelson.io'\n",
    "get_soup(url)\n",
    "data = []\n",
    "for link in soup.find_all('li', class_=\"nav-item\"):\n",
    "    page_url = urllib.parse.urljoin(url, link.find('a')['href'])\n",
    "    page_soup = get_soup(page_url)\n",
    "    for post in page_soup.find_all(class_=\"post-preview\"):\n",
    "        post_title = post.find(class_=\"post-title\").text\n",
    "        post_date = pd.to_datetime(\n",
    "            post.find(class_=\"post-meta\").text.split(' · ')[0]).date()\n",
    "        post_url = urllib.parse.urljoin(url, post.find('a')['href'])\n",
    "        post_soup = get_soup(post_url)\n",
    "        post_text = post_soup.find_all('div', class_=\"container\")[2].get_text('\\n')\n",
    "        outpath = Path('blogs').joinpath(\n",
    "            str(post_date), post_title).with_suffix('.txt')\n",
    "        if not outpath.parent.exists():\n",
    "            outpath.parent.mkdir(parents=True)\n",
    "        outpath.write_text(post_text)\n",
    "        data.append((\n",
    "            post_date, post_title, post_url, outpath\n",
    "        ))\n",
    "df = pd.DataFrame(data, columns=['date', 'title', 'url', 'filepath'])"
   ]
  },
  {
   "cell_type": "code",
   "execution_count": 11,
   "metadata": {},
   "outputs": [
    {
     "data": {
      "text/html": [
       "<div>\n",
       "<style scoped>\n",
       "    .dataframe tbody tr th:only-of-type {\n",
       "        vertical-align: middle;\n",
       "    }\n",
       "\n",
       "    .dataframe tbody tr th {\n",
       "        vertical-align: top;\n",
       "    }\n",
       "\n",
       "    .dataframe thead th {\n",
       "        text-align: right;\n",
       "    }\n",
       "</style>\n",
       "<table border=\"1\" class=\"dataframe\">\n",
       "  <thead>\n",
       "    <tr style=\"text-align: right;\">\n",
       "      <th></th>\n",
       "      <th>date</th>\n",
       "      <th>title</th>\n",
       "      <th>url</th>\n",
       "      <th>filepath</th>\n",
       "    </tr>\n",
       "  </thead>\n",
       "  <tbody>\n",
       "    <tr>\n",
       "      <th>0</th>\n",
       "      <td>2020-08-12</td>\n",
       "      <td>Introduction to Web Scraping for Data Science ...</td>\n",
       "      <td>http://jonathannelson.io/2020/08/12/webscrapin...</td>\n",
       "      <td>blogs/2020-08-12/Introduction to Web Scraping ...</td>\n",
       "    </tr>\n",
       "    <tr>\n",
       "      <th>1</th>\n",
       "      <td>2020-07-10</td>\n",
       "      <td>Welcome to jonathannelson.io!</td>\n",
       "      <td>http://jonathannelson.io/2020/07/10/welcome.html</td>\n",
       "      <td>blogs/2020-07-10/Welcome to jonathannelson.txt</td>\n",
       "    </tr>\n",
       "  </tbody>\n",
       "</table>\n",
       "</div>"
      ],
      "text/plain": [
       "         date                                              title  \\\n",
       "0  2020-08-12  Introduction to Web Scraping for Data Science ...   \n",
       "1  2020-07-10                      Welcome to jonathannelson.io!   \n",
       "\n",
       "                                                 url  \\\n",
       "0  http://jonathannelson.io/2020/08/12/webscrapin...   \n",
       "1   http://jonathannelson.io/2020/07/10/welcome.html   \n",
       "\n",
       "                                            filepath  \n",
       "0  blogs/2020-08-12/Introduction to Web Scraping ...  \n",
       "1     blogs/2020-07-10/Welcome to jonathannelson.txt  "
      ]
     },
     "execution_count": 11,
     "metadata": {},
     "output_type": "execute_result"
    }
   ],
   "source": [
    "# Print out the results of the metadata\n",
    "df.head()"
   ]
  },
  {
   "cell_type": "code",
   "execution_count": null,
   "metadata": {},
   "outputs": [],
   "source": []
  }
 ],
 "metadata": {
  "kernelspec": {
   "display_name": "Python 3",
   "language": "python",
   "name": "python3"
  },
  "language_info": {
   "codemirror_mode": {
    "name": "ipython",
    "version": 3
   },
   "file_extension": ".py",
   "mimetype": "text/x-python",
   "name": "python",
   "nbconvert_exporter": "python",
   "pygments_lexer": "ipython3",
   "version": "3.7.6"
  }
 },
 "nbformat": 4,
 "nbformat_minor": 4
}
